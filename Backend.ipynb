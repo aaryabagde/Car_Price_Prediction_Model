{
 "cells": [
  {
   "cell_type": "code",
   "execution_count": 142,
   "id": "b9f79193-042b-437d-b208-e82fb8d4b8ed",
   "metadata": {},
   "outputs": [
    {
     "name": "stdout",
     "output_type": "stream",
     "text": [
      "                                       name    company  year          Price  \\\n",
      "0      Hyundai Santro Xing XO eRLX Euro III    Hyundai  2007         80,000   \n",
      "1                   Mahindra Jeep CL550 MDI   Mahindra  2006       4,25,000   \n",
      "2                Maruti Suzuki Alto 800 Vxi     Maruti  2018  Ask For Price   \n",
      "3    Hyundai Grand i10 Magna 1.2 Kappa VTVT    Hyundai  2014       3,25,000   \n",
      "4          Ford EcoSport Titanium 1.5L TDCi       Ford  2014       5,75,000   \n",
      "..                                      ...        ...   ...            ...   \n",
      "887                                      Ta       Tara  zest       3,10,000   \n",
      "888                     Tata Zest XM Diesel       Tata  2018       2,60,000   \n",
      "889                      Mahindra Quanto C8   Mahindra  2013       3,90,000   \n",
      "890                Honda Amaze 1.2 E i VTEC      Honda  2014       1,80,000   \n",
      "891               Chevrolet Sail 1.2 LT ABS  Chevrolet  2014       1,60,000   \n",
      "\n",
      "     kms_driven fuel_type  \n",
      "0    45,000 kms    Petrol  \n",
      "1        40 kms    Diesel  \n",
      "2    22,000 kms    Petrol  \n",
      "3    28,000 kms    Petrol  \n",
      "4    36,000 kms    Diesel  \n",
      "..          ...       ...  \n",
      "887         NaN       NaN  \n",
      "888  27,000 kms    Diesel  \n",
      "889  40,000 kms    Diesel  \n",
      "890      Petrol       NaN  \n",
      "891      Petrol       NaN  \n",
      "\n",
      "[892 rows x 6 columns]\n"
     ]
    }
   ],
   "source": [
    "import pandas as pd\n",
    "car=pd.read_csv('Car_DataSet.csv')\n",
    "print(car)"
   ]
  },
  {
   "cell_type": "code",
   "execution_count": 143,
   "id": "2b5e2698-8091-4704-a43a-9ecdbe6e36c1",
   "metadata": {},
   "outputs": [],
   "source": [
    "backup=car.copy()\n",
    "car=car[car['year'].str.isnumeric()]"
   ]
  },
  {
   "cell_type": "code",
   "execution_count": 144,
   "id": "694e84dd-ef51-4b02-be2a-3d271dedb035",
   "metadata": {},
   "outputs": [
    {
     "name": "stdout",
     "output_type": "stream",
     "text": [
      "                                       name    company  year          Price  \\\n",
      "0      Hyundai Santro Xing XO eRLX Euro III    Hyundai  2007         80,000   \n",
      "1                   Mahindra Jeep CL550 MDI   Mahindra  2006       4,25,000   \n",
      "2                Maruti Suzuki Alto 800 Vxi     Maruti  2018  Ask For Price   \n",
      "3    Hyundai Grand i10 Magna 1.2 Kappa VTVT    Hyundai  2014       3,25,000   \n",
      "4          Ford EcoSport Titanium 1.5L TDCi       Ford  2014       5,75,000   \n",
      "..                                      ...        ...   ...            ...   \n",
      "886                    Toyota Corolla Altis     Toyota  2009       3,00,000   \n",
      "888                     Tata Zest XM Diesel       Tata  2018       2,60,000   \n",
      "889                      Mahindra Quanto C8   Mahindra  2013       3,90,000   \n",
      "890                Honda Amaze 1.2 E i VTEC      Honda  2014       1,80,000   \n",
      "891               Chevrolet Sail 1.2 LT ABS  Chevrolet  2014       1,60,000   \n",
      "\n",
      "       kms_driven fuel_type  \n",
      "0      45,000 kms    Petrol  \n",
      "1          40 kms    Diesel  \n",
      "2      22,000 kms    Petrol  \n",
      "3      28,000 kms    Petrol  \n",
      "4      36,000 kms    Diesel  \n",
      "..            ...       ...  \n",
      "886  1,32,000 kms    Petrol  \n",
      "888    27,000 kms    Diesel  \n",
      "889    40,000 kms    Diesel  \n",
      "890        Petrol       NaN  \n",
      "891        Petrol       NaN  \n",
      "\n",
      "[842 rows x 6 columns]\n"
     ]
    }
   ],
   "source": [
    "print(car)"
   ]
  },
  {
   "cell_type": "markdown",
   "id": "145b2886-d2dd-41ab-989d-1b10cd175be5",
   "metadata": {},
   "source": [
    "##quality"
   ]
  },
  {
   "cell_type": "code",
   "execution_count": 145,
   "id": "a60db95b-96c7-4778-88fd-dce2e18b2817",
   "metadata": {},
   "outputs": [],
   "source": [
    "car['year']=car['year'].astype(int)"
   ]
  },
  {
   "cell_type": "code",
   "execution_count": 146,
   "id": "2742ef12-5a79-41ed-a394-f21de5d18364",
   "metadata": {},
   "outputs": [
    {
     "name": "stdout",
     "output_type": "stream",
     "text": [
      "                                       name    company  year          Price  \\\n",
      "0      Hyundai Santro Xing XO eRLX Euro III    Hyundai  2007         80,000   \n",
      "1                   Mahindra Jeep CL550 MDI   Mahindra  2006       4,25,000   \n",
      "2                Maruti Suzuki Alto 800 Vxi     Maruti  2018  Ask For Price   \n",
      "3    Hyundai Grand i10 Magna 1.2 Kappa VTVT    Hyundai  2014       3,25,000   \n",
      "4          Ford EcoSport Titanium 1.5L TDCi       Ford  2014       5,75,000   \n",
      "..                                      ...        ...   ...            ...   \n",
      "886                    Toyota Corolla Altis     Toyota  2009       3,00,000   \n",
      "888                     Tata Zest XM Diesel       Tata  2018       2,60,000   \n",
      "889                      Mahindra Quanto C8   Mahindra  2013       3,90,000   \n",
      "890                Honda Amaze 1.2 E i VTEC      Honda  2014       1,80,000   \n",
      "891               Chevrolet Sail 1.2 LT ABS  Chevrolet  2014       1,60,000   \n",
      "\n",
      "       kms_driven fuel_type  \n",
      "0      45,000 kms    Petrol  \n",
      "1          40 kms    Diesel  \n",
      "2      22,000 kms    Petrol  \n",
      "3      28,000 kms    Petrol  \n",
      "4      36,000 kms    Diesel  \n",
      "..            ...       ...  \n",
      "886  1,32,000 kms    Petrol  \n",
      "888    27,000 kms    Diesel  \n",
      "889    40,000 kms    Diesel  \n",
      "890        Petrol       NaN  \n",
      "891        Petrol       NaN  \n",
      "\n",
      "[842 rows x 6 columns]\n"
     ]
    }
   ],
   "source": [
    "print(car)"
   ]
  },
  {
   "cell_type": "code",
   "execution_count": 147,
   "id": "eb69c0de-c05b-4b7f-bc18-04a4a781c411",
   "metadata": {},
   "outputs": [
    {
     "name": "stdout",
     "output_type": "stream",
     "text": [
      "int32\n"
     ]
    }
   ],
   "source": [
    "print(car['year'].dtype)"
   ]
  },
  {
   "cell_type": "code",
   "execution_count": 148,
   "id": "73e5379e-d4ef-4b79-8038-56b35739842b",
   "metadata": {},
   "outputs": [
    {
     "name": "stdout",
     "output_type": "stream",
     "text": [
      "                                       name    company  year          Price  \\\n",
      "0      Hyundai Santro Xing XO eRLX Euro III    Hyundai  2007         80,000   \n",
      "1                   Mahindra Jeep CL550 MDI   Mahindra  2006       4,25,000   \n",
      "2                Maruti Suzuki Alto 800 Vxi     Maruti  2018  Ask For Price   \n",
      "3    Hyundai Grand i10 Magna 1.2 Kappa VTVT    Hyundai  2014       3,25,000   \n",
      "4          Ford EcoSport Titanium 1.5L TDCi       Ford  2014       5,75,000   \n",
      "..                                      ...        ...   ...            ...   \n",
      "886                    Toyota Corolla Altis     Toyota  2009       3,00,000   \n",
      "888                     Tata Zest XM Diesel       Tata  2018       2,60,000   \n",
      "889                      Mahindra Quanto C8   Mahindra  2013       3,90,000   \n",
      "890                Honda Amaze 1.2 E i VTEC      Honda  2014       1,80,000   \n",
      "891               Chevrolet Sail 1.2 LT ABS  Chevrolet  2014       1,60,000   \n",
      "\n",
      "       kms_driven fuel_type  \n",
      "0      45,000 kms    Petrol  \n",
      "1          40 kms    Diesel  \n",
      "2      22,000 kms    Petrol  \n",
      "3      28,000 kms    Petrol  \n",
      "4      36,000 kms    Diesel  \n",
      "..            ...       ...  \n",
      "886  1,32,000 kms    Petrol  \n",
      "888    27,000 kms    Diesel  \n",
      "889    40,000 kms    Diesel  \n",
      "890        Petrol       NaN  \n",
      "891        Petrol       NaN  \n",
      "\n",
      "[842 rows x 6 columns]\n"
     ]
    }
   ],
   "source": [
    "print(car)"
   ]
  },
  {
   "cell_type": "code",
   "execution_count": 149,
   "id": "71681927",
   "metadata": {},
   "outputs": [
    {
     "name": "stdout",
     "output_type": "stream",
     "text": [
      "<class 'pandas.core.frame.DataFrame'>\n",
      "Int64Index: 842 entries, 0 to 891\n",
      "Data columns (total 6 columns):\n",
      " #   Column      Non-Null Count  Dtype \n",
      "---  ------      --------------  ----- \n",
      " 0   name        842 non-null    object\n",
      " 1   company     842 non-null    object\n",
      " 2   year        842 non-null    int32 \n",
      " 3   Price       842 non-null    object\n",
      " 4   kms_driven  840 non-null    object\n",
      " 5   fuel_type   837 non-null    object\n",
      "dtypes: int32(1), object(5)\n",
      "memory usage: 42.8+ KB\n"
     ]
    }
   ],
   "source": [
    "car.info()"
   ]
  },
  {
   "cell_type": "code",
   "execution_count": 150,
   "id": "1cb111a0",
   "metadata": {},
   "outputs": [
    {
     "name": "stdout",
     "output_type": "stream",
     "text": [
      "                                       name    company  year     Price  \\\n",
      "0      Hyundai Santro Xing XO eRLX Euro III    Hyundai  2007    80,000   \n",
      "1                   Mahindra Jeep CL550 MDI   Mahindra  2006  4,25,000   \n",
      "3    Hyundai Grand i10 Magna 1.2 Kappa VTVT    Hyundai  2014  3,25,000   \n",
      "4          Ford EcoSport Titanium 1.5L TDCi       Ford  2014  5,75,000   \n",
      "6                                 Ford Figo       Ford  2012  1,75,000   \n",
      "..                                      ...        ...   ...       ...   \n",
      "886                    Toyota Corolla Altis     Toyota  2009  3,00,000   \n",
      "888                     Tata Zest XM Diesel       Tata  2018  2,60,000   \n",
      "889                      Mahindra Quanto C8   Mahindra  2013  3,90,000   \n",
      "890                Honda Amaze 1.2 E i VTEC      Honda  2014  1,80,000   \n",
      "891               Chevrolet Sail 1.2 LT ABS  Chevrolet  2014  1,60,000   \n",
      "\n",
      "       kms_driven fuel_type  \n",
      "0      45,000 kms    Petrol  \n",
      "1          40 kms    Diesel  \n",
      "3      28,000 kms    Petrol  \n",
      "4      36,000 kms    Diesel  \n",
      "6      41,000 kms    Diesel  \n",
      "..            ...       ...  \n",
      "886  1,32,000 kms    Petrol  \n",
      "888    27,000 kms    Diesel  \n",
      "889    40,000 kms    Diesel  \n",
      "890        Petrol       NaN  \n",
      "891        Petrol       NaN  \n",
      "\n",
      "[819 rows x 6 columns]\n"
     ]
    }
   ],
   "source": [
    "car=car[car['Price']!='Ask For Price']\n",
    "print(car)"
   ]
  },
  {
   "cell_type": "code",
   "execution_count": 151,
   "id": "3d0057a1",
   "metadata": {},
   "outputs": [
    {
     "data": {
      "text/plain": [
       "0        80,000\n",
       "1      4,25,000\n",
       "3      3,25,000\n",
       "4      5,75,000\n",
       "6      1,75,000\n",
       "         ...   \n",
       "886    3,00,000\n",
       "888    2,60,000\n",
       "889    3,90,000\n",
       "890    1,80,000\n",
       "891    1,60,000\n",
       "Name: Price, Length: 819, dtype: object"
      ]
     },
     "execution_count": 151,
     "metadata": {},
     "output_type": "execute_result"
    }
   ],
   "source": [
    "car['Price']"
   ]
  },
  {
   "cell_type": "code",
   "execution_count": 152,
   "id": "5a79f0db",
   "metadata": {},
   "outputs": [],
   "source": [
    "car['Price']=car['Price'].str.replace(',','')"
   ]
  },
  {
   "cell_type": "code",
   "execution_count": 153,
   "id": "5d10ede9",
   "metadata": {},
   "outputs": [
    {
     "name": "stdout",
     "output_type": "stream",
     "text": [
      "0       80000\n",
      "1      425000\n",
      "3      325000\n",
      "4      575000\n",
      "6      175000\n",
      "        ...  \n",
      "886    300000\n",
      "888    260000\n",
      "889    390000\n",
      "890    180000\n",
      "891    160000\n",
      "Name: Price, Length: 819, dtype: object\n"
     ]
    }
   ],
   "source": [
    "print(car['Price'])"
   ]
  },
  {
   "cell_type": "code",
   "execution_count": 154,
   "id": "fdfb8cfe",
   "metadata": {},
   "outputs": [
    {
     "name": "stdout",
     "output_type": "stream",
     "text": [
      "int32\n"
     ]
    }
   ],
   "source": [
    "car['Price']=car['Price'].astype(int)\n",
    "print(car['Price'].dtype)"
   ]
  },
  {
   "cell_type": "code",
   "execution_count": 155,
   "id": "9c6d0986",
   "metadata": {},
   "outputs": [
    {
     "name": "stdout",
     "output_type": "stream",
     "text": [
      "0        45,000 \n",
      "1            40 \n",
      "3        28,000 \n",
      "4        36,000 \n",
      "6        41,000 \n",
      "         ...    \n",
      "886    1,32,000 \n",
      "888      27,000 \n",
      "889      40,000 \n",
      "890       Petrol\n",
      "891       Petrol\n",
      "Name: kms_driven, Length: 819, dtype: object\n"
     ]
    }
   ],
   "source": [
    "car['kms_driven']=car['kms_driven'].str.replace('kms',\"\")\n",
    "print(car['kms_driven'])"
   ]
  },
  {
   "cell_type": "code",
   "execution_count": 156,
   "id": "6a93681b",
   "metadata": {},
   "outputs": [
    {
     "name": "stdout",
     "output_type": "stream",
     "text": [
      "0       45000 \n",
      "1          40 \n",
      "3       28000 \n",
      "4       36000 \n",
      "6       41000 \n",
      "        ...   \n",
      "886    132000 \n",
      "888     27000 \n",
      "889     40000 \n",
      "890     Petrol\n",
      "891     Petrol\n",
      "Name: kms_driven, Length: 819, dtype: object\n"
     ]
    }
   ],
   "source": [
    "car['kms_driven']=car['kms_driven'].str.replace(\",\",\"\")\n",
    "print(car['kms_driven'])"
   ]
  },
  {
   "cell_type": "code",
   "execution_count": 157,
   "id": "8706d09f",
   "metadata": {},
   "outputs": [
    {
     "name": "stdout",
     "output_type": "stream",
     "text": [
      "0      2007\n",
      "1      2006\n",
      "3      2014\n",
      "4      2014\n",
      "6      2012\n",
      "       ... \n",
      "886    2009\n",
      "888    2018\n",
      "889    2013\n",
      "890    2014\n",
      "891    2014\n",
      "Name: year, Length: 819, dtype: int32\n"
     ]
    }
   ],
   "source": [
    "print(car['year'])"
   ]
  },
  {
   "cell_type": "code",
   "execution_count": 158,
   "id": "14e68ffd",
   "metadata": {},
   "outputs": [],
   "source": [
    "car=car[car['kms_driven']!='Petrol']"
   ]
  },
  {
   "cell_type": "code",
   "execution_count": 159,
   "id": "3f878cc9",
   "metadata": {},
   "outputs": [
    {
     "name": "stdout",
     "output_type": "stream",
     "text": [
      "0       45000 \n",
      "1          40 \n",
      "3       28000 \n",
      "4       36000 \n",
      "6       41000 \n",
      "        ...   \n",
      "883     50000 \n",
      "885     30000 \n",
      "886    132000 \n",
      "888     27000 \n",
      "889     40000 \n",
      "Name: kms_driven, Length: 817, dtype: object\n"
     ]
    }
   ],
   "source": [
    "print(car['kms_driven'])"
   ]
  },
  {
   "cell_type": "code",
   "execution_count": 160,
   "id": "2621ae25",
   "metadata": {},
   "outputs": [],
   "source": [
    "car['kms_driven']=car['kms_driven'].astype(int)"
   ]
  },
  {
   "cell_type": "code",
   "execution_count": 161,
   "id": "8f992573",
   "metadata": {},
   "outputs": [
    {
     "name": "stdout",
     "output_type": "stream",
     "text": [
      "int32\n"
     ]
    }
   ],
   "source": [
    "print(car['kms_driven'].dtype)"
   ]
  },
  {
   "cell_type": "code",
   "execution_count": 162,
   "id": "7390b3ea",
   "metadata": {},
   "outputs": [
    {
     "name": "stdout",
     "output_type": "stream",
     "text": [
      "                                       name   company  year   Price  \\\n",
      "0      Hyundai Santro Xing XO eRLX Euro III   Hyundai  2007   80000   \n",
      "1                   Mahindra Jeep CL550 MDI  Mahindra  2006  425000   \n",
      "3    Hyundai Grand i10 Magna 1.2 Kappa VTVT   Hyundai  2014  325000   \n",
      "4          Ford EcoSport Titanium 1.5L TDCi      Ford  2014  575000   \n",
      "6                                 Ford Figo      Ford  2012  175000   \n",
      "..                                      ...       ...   ...     ...   \n",
      "883              Maruti Suzuki Ritz VXI ABS    Maruti  2011  270000   \n",
      "885               Tata Indica V2 DLE BS III      Tata  2009  110000   \n",
      "886                    Toyota Corolla Altis    Toyota  2009  300000   \n",
      "888                     Tata Zest XM Diesel      Tata  2018  260000   \n",
      "889                      Mahindra Quanto C8  Mahindra  2013  390000   \n",
      "\n",
      "     kms_driven fuel_type  \n",
      "0         45000    Petrol  \n",
      "1            40    Diesel  \n",
      "3         28000    Petrol  \n",
      "4         36000    Diesel  \n",
      "6         41000    Diesel  \n",
      "..          ...       ...  \n",
      "883       50000    Petrol  \n",
      "885       30000    Diesel  \n",
      "886      132000    Petrol  \n",
      "888       27000    Diesel  \n",
      "889       40000    Diesel  \n",
      "\n",
      "[816 rows x 6 columns]\n"
     ]
    }
   ],
   "source": [
    "car=car.dropna()\n",
    "print(car)"
   ]
  },
  {
   "cell_type": "code",
   "execution_count": 163,
   "id": "2f384ac2",
   "metadata": {},
   "outputs": [
    {
     "data": {
      "text/plain": [
       "dtype('O')"
      ]
     },
     "execution_count": 163,
     "metadata": {},
     "output_type": "execute_result"
    }
   ],
   "source": [
    "car['name'].dtype"
   ]
  },
  {
   "cell_type": "code",
   "execution_count": 164,
   "id": "74a58e42",
   "metadata": {},
   "outputs": [
    {
     "name": "stdout",
     "output_type": "stream",
     "text": [
      "0        Hyundai Santro Xing XO eRLX Euro III\n",
      "1                     Mahindra Jeep CL550 MDI\n",
      "3      Hyundai Grand i10 Magna 1.2 Kappa VTVT\n",
      "4            Ford EcoSport Titanium 1.5L TDCi\n",
      "6                                   Ford Figo\n",
      "                        ...                  \n",
      "883                Maruti Suzuki Ritz VXI ABS\n",
      "885                 Tata Indica V2 DLE BS III\n",
      "886                      Toyota Corolla Altis\n",
      "888                       Tata Zest XM Diesel\n",
      "889                        Mahindra Quanto C8\n",
      "Name: name, Length: 816, dtype: object\n"
     ]
    }
   ],
   "source": [
    "print(car['name'])"
   ]
  },
  {
   "cell_type": "code",
   "execution_count": 165,
   "id": "1ed8c0c4",
   "metadata": {},
   "outputs": [
    {
     "name": "stdout",
     "output_type": "stream",
     "text": [
      "0        Hyundai Santro Xing XO eRLX Euro III\n",
      "1                     Mahindra Jeep CL550 MDI\n",
      "3      Hyundai Grand i10 Magna 1.2 Kappa VTVT\n",
      "4            Ford EcoSport Titanium 1.5L TDCi\n",
      "6                                   Ford Figo\n",
      "                        ...                  \n",
      "883                Maruti Suzuki Ritz VXI ABS\n",
      "885                 Tata Indica V2 DLE BS III\n",
      "886                      Toyota Corolla Altis\n",
      "888                       Tata Zest XM Diesel\n",
      "889                        Mahindra Quanto C8\n",
      "Name: name, Length: 816, dtype: object\n"
     ]
    }
   ],
   "source": [
    "print(car['name'])"
   ]
  },
  {
   "cell_type": "code",
   "execution_count": 166,
   "id": "297f691d",
   "metadata": {},
   "outputs": [],
   "source": [
    "car['name']=car['name'].str.split(' ').str.slice(0,3).str.join(' ')"
   ]
  },
  {
   "cell_type": "code",
   "execution_count": 167,
   "id": "6c51ce9a",
   "metadata": {},
   "outputs": [
    {
     "name": "stdout",
     "output_type": "stream",
     "text": [
      "0         Hyundai Santro Xing\n",
      "1         Mahindra Jeep CL550\n",
      "3           Hyundai Grand i10\n",
      "4      Ford EcoSport Titanium\n",
      "6                   Ford Figo\n",
      "                ...          \n",
      "883        Maruti Suzuki Ritz\n",
      "885            Tata Indica V2\n",
      "886      Toyota Corolla Altis\n",
      "888              Tata Zest XM\n",
      "889        Mahindra Quanto C8\n",
      "Name: name, Length: 816, dtype: object\n"
     ]
    }
   ],
   "source": [
    "print(car['name'])"
   ]
  },
  {
   "cell_type": "code",
   "execution_count": 168,
   "id": "60d9ce8c",
   "metadata": {},
   "outputs": [],
   "source": [
    "car=car.reset_index(drop=True)"
   ]
  },
  {
   "cell_type": "code",
   "execution_count": 169,
   "id": "1821c4ca",
   "metadata": {},
   "outputs": [
    {
     "name": "stdout",
     "output_type": "stream",
     "text": [
      "                       name   company  year   Price  kms_driven fuel_type\n",
      "0       Hyundai Santro Xing   Hyundai  2007   80000       45000    Petrol\n",
      "1       Mahindra Jeep CL550  Mahindra  2006  425000          40    Diesel\n",
      "2         Hyundai Grand i10   Hyundai  2014  325000       28000    Petrol\n",
      "3    Ford EcoSport Titanium      Ford  2014  575000       36000    Diesel\n",
      "4                 Ford Figo      Ford  2012  175000       41000    Diesel\n",
      "..                      ...       ...   ...     ...         ...       ...\n",
      "811      Maruti Suzuki Ritz    Maruti  2011  270000       50000    Petrol\n",
      "812          Tata Indica V2      Tata  2009  110000       30000    Diesel\n",
      "813    Toyota Corolla Altis    Toyota  2009  300000      132000    Petrol\n",
      "814            Tata Zest XM      Tata  2018  260000       27000    Diesel\n",
      "815      Mahindra Quanto C8  Mahindra  2013  390000       40000    Diesel\n",
      "\n",
      "[816 rows x 6 columns]\n"
     ]
    }
   ],
   "source": [
    "print(car)"
   ]
  },
  {
   "cell_type": "code",
   "execution_count": 170,
   "id": "4553aaef",
   "metadata": {},
   "outputs": [
    {
     "name": "stdout",
     "output_type": "stream",
     "text": [
      "<class 'pandas.core.frame.DataFrame'>\n",
      "RangeIndex: 816 entries, 0 to 815\n",
      "Data columns (total 6 columns):\n",
      " #   Column      Non-Null Count  Dtype \n",
      "---  ------      --------------  ----- \n",
      " 0   name        816 non-null    object\n",
      " 1   company     816 non-null    object\n",
      " 2   year        816 non-null    int32 \n",
      " 3   Price       816 non-null    int32 \n",
      " 4   kms_driven  816 non-null    int32 \n",
      " 5   fuel_type   816 non-null    object\n",
      "dtypes: int32(3), object(3)\n",
      "memory usage: 28.8+ KB\n"
     ]
    }
   ],
   "source": [
    "car.info()"
   ]
  },
  {
   "cell_type": "code",
   "execution_count": 171,
   "id": "2b564151",
   "metadata": {},
   "outputs": [],
   "source": [
    "car=car[car['Price']<6e6].reset_index(drop=True)"
   ]
  },
  {
   "cell_type": "code",
   "execution_count": 172,
   "id": "307061b0",
   "metadata": {},
   "outputs": [
    {
     "name": "stdout",
     "output_type": "stream",
     "text": [
      "                       name   company  year   Price  kms_driven fuel_type\n",
      "0       Hyundai Santro Xing   Hyundai  2007   80000       45000    Petrol\n",
      "1       Mahindra Jeep CL550  Mahindra  2006  425000          40    Diesel\n",
      "2         Hyundai Grand i10   Hyundai  2014  325000       28000    Petrol\n",
      "3    Ford EcoSport Titanium      Ford  2014  575000       36000    Diesel\n",
      "4                 Ford Figo      Ford  2012  175000       41000    Diesel\n",
      "..                      ...       ...   ...     ...         ...       ...\n",
      "810      Maruti Suzuki Ritz    Maruti  2011  270000       50000    Petrol\n",
      "811          Tata Indica V2      Tata  2009  110000       30000    Diesel\n",
      "812    Toyota Corolla Altis    Toyota  2009  300000      132000    Petrol\n",
      "813            Tata Zest XM      Tata  2018  260000       27000    Diesel\n",
      "814      Mahindra Quanto C8  Mahindra  2013  390000       40000    Diesel\n",
      "\n",
      "[815 rows x 6 columns]\n"
     ]
    }
   ],
   "source": [
    "print(car)"
   ]
  },
  {
   "cell_type": "code",
   "execution_count": 173,
   "id": "69d9bbbb",
   "metadata": {},
   "outputs": [],
   "source": [
    "car.to_csv('Cleaned_Car_DataSet.csv')"
   ]
  },
  {
   "cell_type": "code",
   "execution_count": 174,
   "id": "87ff83cf",
   "metadata": {},
   "outputs": [],
   "source": [
    "X=car.drop(columns='Price')\n",
    "y=car['Price']"
   ]
  },
  {
   "cell_type": "code",
   "execution_count": 175,
   "id": "34df94b7",
   "metadata": {},
   "outputs": [
    {
     "ename": "ModuleNotFoundError",
     "evalue": "No module named 'sklearn'",
     "output_type": "error",
     "traceback": [
      "\u001b[1;31m---------------------------------------------------------------------------\u001b[0m",
      "\u001b[1;31mModuleNotFoundError\u001b[0m                       Traceback (most recent call last)",
      "\u001b[1;32m~\\AppData\\Local\\Temp/ipykernel_32372/2714325032.py\u001b[0m in \u001b[0;36m<module>\u001b[1;34m\u001b[0m\n\u001b[1;32m----> 1\u001b[1;33m \u001b[1;32mfrom\u001b[0m \u001b[0msklearn\u001b[0m\u001b[1;33m.\u001b[0m\u001b[0mmodel_selection\u001b[0m \u001b[1;32mimport\u001b[0m \u001b[0mtrain_test_split\u001b[0m\u001b[1;33m\u001b[0m\u001b[1;33m\u001b[0m\u001b[0m\n\u001b[0m\u001b[0;32m      2\u001b[0m \u001b[0mX_train\u001b[0m\u001b[1;33m,\u001b[0m\u001b[0mX_test\u001b[0m\u001b[1;33m,\u001b[0m\u001b[0my_train\u001b[0m\u001b[1;33m,\u001b[0m\u001b[0my_test\u001b[0m\u001b[1;33m=\u001b[0m\u001b[0mtrain_test_split\u001b[0m\u001b[1;33m(\u001b[0m\u001b[0mX\u001b[0m\u001b[1;33m,\u001b[0m\u001b[0my\u001b[0m\u001b[1;33m,\u001b[0m\u001b[0mtest_size\u001b[0m\u001b[1;33m=\u001b[0m\u001b[1;36m0.5\u001b[0m\u001b[1;33m)\u001b[0m\u001b[1;33m\u001b[0m\u001b[1;33m\u001b[0m\u001b[0m\n",
      "\u001b[1;31mModuleNotFoundError\u001b[0m: No module named 'sklearn'"
     ]
    }
   ],
   "source": [
    "from sklearn.model_selection import train_test_split\n",
    "X_train,X_test,y_train,y_test=train_test_split(X,y,test_size=0.5)"
   ]
  },
  {
   "cell_type": "code",
   "execution_count": null,
   "id": "eb8504ec",
   "metadata": {},
   "outputs": [],
   "source": [
    "from sklearn.linear_model import LinearRegression\n",
    "from sklearn.metrics import r2_score\n",
    "from sklearn.preprocessing import OneHotEncoder\n",
    "from sklearn.compose import make_column_transformer\n",
    "from sklearn.pipeline import make_pipeline"
   ]
  },
  {
   "cell_type": "code",
   "execution_count": null,
   "id": "96f5c9a1",
   "metadata": {},
   "outputs": [
    {
     "data": {
      "text/plain": [
       "OneHotEncoder()"
      ]
     },
     "execution_count": 36,
     "metadata": {},
     "output_type": "execute_result"
    },
    {
     "data": {
      "text/plain": [
       "OneHotEncoder()"
      ]
     },
     "execution_count": 36,
     "metadata": {},
     "output_type": "execute_result"
    }
   ],
   "source": [
    "ohe= OneHotEncoder()\n",
    "ohe.fit(X[['name','company','fuel_type']])"
   ]
  },
  {
   "cell_type": "code",
   "execution_count": null,
   "id": "66c3bfa9",
   "metadata": {},
   "outputs": [],
   "source": [
    "column_trans=make_column_transformer((OneHotEncoder(categories=ohe.categories_),['name','company','fuel_type']),remainder='passthrough')"
   ]
  },
  {
   "cell_type": "code",
   "execution_count": null,
   "id": "fa998376",
   "metadata": {},
   "outputs": [],
   "source": [
    "lr=LinearRegression()"
   ]
  },
  {
   "cell_type": "code",
   "execution_count": null,
   "id": "06e9bf99",
   "metadata": {},
   "outputs": [],
   "source": [
    "pipe=make_pipeline(column_trans,lr)"
   ]
  },
  {
   "cell_type": "code",
   "execution_count": null,
   "id": "2dcf5ff1",
   "metadata": {},
   "outputs": [
    {
     "data": {
      "text/plain": [
       "Pipeline(steps=[('columntransformer',\n",
       "                 ColumnTransformer(remainder='passthrough',\n",
       "                                   transformers=[('onehotencoder',\n",
       "                                                  OneHotEncoder(categories=[array(['Audi A3 Cabriolet', 'Audi A4 1.8', 'Audi A4 2.0', 'Audi A6 2.0',\n",
       "       'Audi A8', 'Audi Q3 2.0', 'Audi Q5 2.0', 'Audi Q7', 'BMW 3 Series',\n",
       "       'BMW 5 Series', 'BMW 7 Series', 'BMW X1', 'BMW X1 sDrive20d',\n",
       "       'BMW X1 xDrive20d', 'Chevrolet Beat', 'Chevrolet Beat...\n",
       "                                                                            array(['Audi', 'BMW', 'Chevrolet', 'Datsun', 'Fiat', 'Force', 'Ford',\n",
       "       'Hindustan', 'Honda', 'Hyundai', 'Jaguar', 'Jeep', 'Land',\n",
       "       'Mahindra', 'Maruti', 'Mercedes', 'Mini', 'Mitsubishi', 'Nissan',\n",
       "       'Renault', 'Skoda', 'Tata', 'Toyota', 'Volkswagen', 'Volvo'],\n",
       "      dtype=object),\n",
       "                                                                            array(['Diesel', 'LPG', 'Petrol'], dtype=object)]),\n",
       "                                                  ['name', 'company',\n",
       "                                                   'fuel_type'])])),\n",
       "                ('linearregression', LinearRegression())])"
      ]
     },
     "execution_count": 40,
     "metadata": {},
     "output_type": "execute_result"
    },
    {
     "data": {
      "text/plain": [
       "Pipeline(steps=[('columntransformer',\n",
       "                 ColumnTransformer(remainder='passthrough',\n",
       "                                   transformers=[('onehotencoder',\n",
       "                                                  OneHotEncoder(categories=[array(['Audi A3 Cabriolet', 'Audi A4 1.8', 'Audi A4 2.0', 'Audi A6 2.0',\n",
       "       'Audi A8', 'Audi Q3 2.0', 'Audi Q5 2.0', 'Audi Q7', 'BMW 3 Series',\n",
       "       'BMW 5 Series', 'BMW 7 Series', 'BMW X1', 'BMW X1 sDrive20d',\n",
       "       'BMW X1 xDrive20d', 'Chevrolet Beat', 'Chevrolet Beat...\n",
       "                                                                            array(['Audi', 'BMW', 'Chevrolet', 'Datsun', 'Fiat', 'Force', 'Ford',\n",
       "       'Hindustan', 'Honda', 'Hyundai', 'Jaguar', 'Jeep', 'Land',\n",
       "       'Mahindra', 'Maruti', 'Mercedes', 'Mini', 'Mitsubishi', 'Nissan',\n",
       "       'Renault', 'Skoda', 'Tata', 'Toyota', 'Volkswagen', 'Volvo'],\n",
       "      dtype=object),\n",
       "                                                                            array(['Diesel', 'LPG', 'Petrol'], dtype=object)]),\n",
       "                                                  ['name', 'company',\n",
       "                                                   'fuel_type'])])),\n",
       "                ('linearregression', LinearRegression())])"
      ]
     },
     "execution_count": 40,
     "metadata": {},
     "output_type": "execute_result"
    }
   ],
   "source": [
    "pipe.fit(X_train,y_train)"
   ]
  },
  {
   "cell_type": "code",
   "execution_count": null,
   "id": "f6603430",
   "metadata": {},
   "outputs": [],
   "source": [
    "y_pred=pipe.predict(X_test)"
   ]
  },
  {
   "cell_type": "code",
   "execution_count": null,
   "id": "eb2cd15a",
   "metadata": {},
   "outputs": [
    {
     "data": {
      "text/plain": [
       "array([ 4.53850416e+05,  2.52776439e+05,  3.62898050e+05,  7.76485235e+05,\n",
       "        1.86586121e+05,  1.51676201e+06,  1.71620352e+05,  1.13836620e+05,\n",
       "        3.70470849e+05,  4.34344911e+05,  3.02891419e+05,  1.35843222e+05,\n",
       "        3.03252054e+05,  1.45558724e+06,  8.21497558e+05,  6.98182798e+05,\n",
       "        4.53060710e+04,  5.13443360e+04,  4.24955530e+05,  2.37157911e+05,\n",
       "        4.19480551e+05,  2.27981425e+05,  2.56298482e+05,  2.48474393e+05,\n",
       "        8.60442614e+05,  2.18426966e+05,  6.45180619e+05,  3.31998298e+05,\n",
       "        4.16599605e+05,  6.63087534e+05,  2.46354089e+05,  3.11440344e+05,\n",
       "        5.16502122e+05,  5.48467663e+05,  1.89873826e+05,  6.63058082e+05,\n",
       "        4.94877176e+05,  8.41423685e+05,  2.48817294e+05,  5.97640483e+05,\n",
       "        4.74374957e+05,  3.19363687e+05,  8.02127533e+04,  2.57182978e+05,\n",
       "        5.43692755e+05,  5.06888101e+05,  2.60169541e+05,  1.59319765e+05,\n",
       "        4.29249367e+05,  8.39078545e+05,  5.11827573e+05,  2.56782000e+05,\n",
       "        5.06888101e+05,  8.89978388e+05,  4.89496792e+05,  1.34819285e+05,\n",
       "        1.47836420e+06,  2.53133823e+05,  1.10599640e+05,  2.29371155e+05,\n",
       "       -1.86174246e+04,  7.29705806e+05,  5.79575948e+05,  2.05047476e+05,\n",
       "        6.82403005e+05,  5.26848707e+05,  4.88528030e+05,  3.92167873e+05,\n",
       "        6.63320762e+05,  4.01147776e+05,  1.88789007e+05,  6.19133242e+05,\n",
       "        3.08932790e+05,  5.35761674e+05,  5.97316785e+05,  2.37697713e+05,\n",
       "        2.27710231e+05,  6.07688402e+05,  4.34924866e+05,  2.20441405e+05,\n",
       "        3.26887035e+05,  3.28801304e+05,  1.56362381e+05,  3.26887035e+05,\n",
       "        1.48483816e+06,  4.83791034e+05,  7.18175949e+05,  5.00320265e+05,\n",
       "        9.09566507e+04,  2.51752613e+05,  2.88817974e+05,  5.10463798e+05,\n",
       "        2.74182742e+05,  2.21605317e+05,  2.94856641e+05,  8.28062420e+05,\n",
       "        8.52655192e+05,  5.34617460e+05,  7.36108245e+05,  4.69195788e+05,\n",
       "        7.55313483e+05,  2.58282529e+05,  4.07531000e+05,  2.35995753e+05,\n",
       "        2.54369901e+05,  5.97165867e+05,  3.14754804e+05,  3.01797067e+05,\n",
       "        3.67499543e+05,  6.75917026e+05,  2.06623346e+05,  4.51749651e+05,\n",
       "        5.03575168e+05,  4.24453786e+05,  6.75080447e+05,  4.77964265e+05,\n",
       "        2.70025285e+05,  4.13898577e+05,  2.69379775e+05,  6.98182798e+05,\n",
       "        6.60903925e+04,  2.55908525e+05,  4.30237999e+05,  5.97165867e+05,\n",
       "        3.91149543e+05,  2.29581809e+05,  3.64343480e+05,  4.15588226e+05,\n",
       "        2.83045766e+05,  1.71252489e+05,  2.93563017e+05,  6.40061275e+05,\n",
       "        4.86697332e+05,  3.63653988e+05,  2.71673611e+05,  2.30414020e+05,\n",
       "        6.20866575e+05,  6.69254785e+04,  1.17095333e+05,  2.19394192e+05,\n",
       "        2.03941865e+05,  7.40642254e+05,  3.80981772e+05,  4.58424490e+05,\n",
       "        8.60442614e+05,  3.63349493e+05,  1.47403803e+06,  1.51463127e+05,\n",
       "        4.91333628e+05,  5.97640483e+05,  1.96519922e+05,  1.26722112e+05,\n",
       "        3.49798234e+05,  3.67157533e+04,  3.32513499e+05,  2.12753246e+04,\n",
       "        6.98182798e+05,  3.41937585e+05,  4.23496160e+05,  1.87522244e+05,\n",
       "        3.56493811e+05,  1.81438304e+05,  7.40642254e+05,  7.38450831e+05,\n",
       "        5.97640483e+05,  5.44059778e+05,  2.40890456e+05,  3.72001840e+05,\n",
       "        5.76526826e+04,  2.94856641e+05,  4.33732069e+04,  2.83593118e+05,\n",
       "        5.01950027e+05,  4.88236611e+05,  1.28958073e+05,  5.91538606e+05,\n",
       "        2.52281910e+05,  4.97479687e+05,  5.41220899e+05,  1.53629121e+06,\n",
       "        2.79518391e+05,  4.12695282e+05,  3.05938819e+05,  3.82038543e+04,\n",
       "        1.61014962e+05,  3.58759723e+05,  1.40019152e+05,  7.32404465e+05,\n",
       "        4.69393849e+05,  2.84760292e+05,  1.29875452e+05,  1.86586121e+05,\n",
       "        4.02560030e+05,  1.19804635e+06,  4.26781483e+05,  1.29651477e+05,\n",
       "        2.93424668e+05,  5.23482248e+05,  2.78023573e+05,  9.56248422e+05,\n",
       "        5.95890545e+04,  2.59772562e+05,  1.75791518e+05,  2.79167431e+05,\n",
       "        2.26163776e+05,  3.54551623e+05,  4.45771432e+05,  3.96022283e+04,\n",
       "        5.02658855e+05,  3.49940572e+05,  6.85031525e+04,  1.32247036e+05,\n",
       "        1.45507073e+05,  5.97316785e+05,  4.37836503e+05,  5.23482248e+05,\n",
       "        6.99550154e+05,  2.49750192e+05,  2.09535716e+05,  5.00526586e+05,\n",
       "       -9.02257573e+04,  2.05165575e+05,  7.29705806e+05,  1.51314306e+06,\n",
       "        3.08173625e+05,  2.10233338e+05,  4.49146101e+05,  8.55818640e+04,\n",
       "        2.10328772e+05,  3.76762104e+05,  3.63345540e+05,  2.64678667e+05,\n",
       "        3.80639052e+04,  4.05706911e+05,  3.52980105e+05,  5.20891117e+05,\n",
       "        2.59341243e+05,  2.36358684e+05,  1.68414303e+05,  1.84634534e+05,\n",
       "        3.43764871e+05,  3.12342226e+05,  5.25472007e+05,  2.90112767e+05,\n",
       "        4.24016454e+05,  5.36231878e+05,  5.30023637e+05,  2.42718439e+05,\n",
       "        5.41676765e+05,  4.31249741e+04,  7.10743938e+05,  4.51925766e+05,\n",
       "        2.88646728e+05,  4.46616022e+05,  2.30270445e+05,  4.97009012e+05,\n",
       "        6.97132467e+05,  1.56057319e+05,  3.27420987e+05,  3.31731747e+05,\n",
       "        5.09042381e+03,  3.23571671e+05,  3.16081019e+05,  6.97132467e+05,\n",
       "       -2.23582749e+04,  2.53263541e+05,  3.87950542e+05,  4.15484422e+05,\n",
       "        1.09124320e+05,  3.00272549e+05,  3.65394136e+05,  4.68725639e+05,\n",
       "        3.08932790e+05,  6.07290032e+05,  1.86605543e+05,  3.88109119e+05,\n",
       "        3.16150058e+05,  2.24338374e+05,  8.02127533e+04,  1.06824972e+05,\n",
       "        1.67088580e+05,  3.79756548e+05,  1.33981470e+06,  7.54106436e+05,\n",
       "        5.44777505e+05,  2.50575921e+05,  3.27310936e+05,  4.50140418e+05,\n",
       "        2.16765068e+05,  3.13368983e+05,  5.25860128e+05,  1.93340712e+05,\n",
       "        7.16406998e+05,  8.77559204e+05,  3.85707472e+05,  1.68917840e+05,\n",
       "        3.73282588e+05,  2.67551793e+05,  8.20588913e+05,  6.52825179e+05,\n",
       "        5.88859838e+05,  6.34425662e+05,  8.01967641e+05,  4.49677659e+05,\n",
       "        7.45270929e+04,  1.89348340e+05,  2.00460076e+05,  4.18630119e+05,\n",
       "       -1.04907811e+04,  3.60417008e+05,  1.88373897e+05,  3.97935275e+05,\n",
       "        2.03752684e+05,  1.95904320e+05,  3.81533518e+05,  7.17709843e+05,\n",
       "        3.76257427e+05,  4.67202891e+05,  1.54729290e+05,  4.15277412e+05,\n",
       "        4.00077082e+05,  2.45617599e+05,  2.16675128e+05, -7.93291257e+04,\n",
       "        8.88564936e+05,  6.69168431e+05,  4.19480551e+05,  5.03575168e+05,\n",
       "        3.92167873e+05,  4.38345519e+05,  2.63020021e+05,  1.53633675e+06,\n",
       "        5.97640483e+05,  3.69772988e+05,  2.47750138e+05,  5.95945035e+05,\n",
       "       -1.16512667e+01,  4.03048243e+05,  2.32829619e+05,  4.26254530e+05,\n",
       "       -6.89167521e+04,  5.97640483e+05,  6.65493306e+04,  6.16014312e+05,\n",
       "        1.85893996e+05,  7.02109147e+05,  1.50793865e+05,  3.23420519e+05,\n",
       "        3.50439156e+05,  3.27310936e+05,  5.45984685e+05,  1.11247036e+05,\n",
       "        5.96636570e+05,  1.13946328e+05,  5.21106455e+05,  3.08932790e+05,\n",
       "        3.65394136e+05,  2.13288366e+05,  5.97640483e+05,  4.13898577e+05,\n",
       "        3.16081799e+05,  1.44803080e+05,  4.49983578e+05,  5.43163087e+05,\n",
       "        2.31842664e+04,  6.47470916e+04,  3.60499987e+05,  5.00320265e+05,\n",
       "        5.21865498e+05,  2.71379011e+05,  2.47710415e+05,  2.73842455e+05,\n",
       "        2.91352065e+05,  6.34045407e+05,  3.04300997e+05,  3.84608664e+05,\n",
       "        2.52281910e+05,  2.65440740e+05,  5.19693563e+05,  4.58249203e+05,\n",
       "        3.64644285e+05,  3.91418795e+05,  2.01507814e+05,  8.29945324e+05,\n",
       "        3.27839467e+05,  2.43829419e+05,  4.50908143e+05,  4.67900996e+05,\n",
       "        2.67915648e+05,  1.02650360e+05,  1.15738246e+05,  7.76485235e+05,\n",
       "        2.30917841e+05,  6.34058299e+05,  2.93952234e+05, -1.70610072e+04,\n",
       "        2.71379011e+05,  7.96896509e+05,  3.01420181e+05,  3.17637486e+05,\n",
       "        7.16406998e+05,  7.44526631e+05,  7.56358079e+05,  6.75917026e+05,\n",
       "        6.68621642e+05,  3.50624331e+05,  4.79083976e+05,  6.88537223e+05])"
      ]
     },
     "execution_count": 42,
     "metadata": {},
     "output_type": "execute_result"
    },
    {
     "data": {
      "text/plain": [
       "array([ 4.53850416e+05,  2.52776439e+05,  3.62898050e+05,  7.76485235e+05,\n",
       "        1.86586121e+05,  1.51676201e+06,  1.71620352e+05,  1.13836620e+05,\n",
       "        3.70470849e+05,  4.34344911e+05,  3.02891419e+05,  1.35843222e+05,\n",
       "        3.03252054e+05,  1.45558724e+06,  8.21497558e+05,  6.98182798e+05,\n",
       "        4.53060710e+04,  5.13443360e+04,  4.24955530e+05,  2.37157911e+05,\n",
       "        4.19480551e+05,  2.27981425e+05,  2.56298482e+05,  2.48474393e+05,\n",
       "        8.60442614e+05,  2.18426966e+05,  6.45180619e+05,  3.31998298e+05,\n",
       "        4.16599605e+05,  6.63087534e+05,  2.46354089e+05,  3.11440344e+05,\n",
       "        5.16502122e+05,  5.48467663e+05,  1.89873826e+05,  6.63058082e+05,\n",
       "        4.94877176e+05,  8.41423685e+05,  2.48817294e+05,  5.97640483e+05,\n",
       "        4.74374957e+05,  3.19363687e+05,  8.02127533e+04,  2.57182978e+05,\n",
       "        5.43692755e+05,  5.06888101e+05,  2.60169541e+05,  1.59319765e+05,\n",
       "        4.29249367e+05,  8.39078545e+05,  5.11827573e+05,  2.56782000e+05,\n",
       "        5.06888101e+05,  8.89978388e+05,  4.89496792e+05,  1.34819285e+05,\n",
       "        1.47836420e+06,  2.53133823e+05,  1.10599640e+05,  2.29371155e+05,\n",
       "       -1.86174246e+04,  7.29705806e+05,  5.79575948e+05,  2.05047476e+05,\n",
       "        6.82403005e+05,  5.26848707e+05,  4.88528030e+05,  3.92167873e+05,\n",
       "        6.63320762e+05,  4.01147776e+05,  1.88789007e+05,  6.19133242e+05,\n",
       "        3.08932790e+05,  5.35761674e+05,  5.97316785e+05,  2.37697713e+05,\n",
       "        2.27710231e+05,  6.07688402e+05,  4.34924866e+05,  2.20441405e+05,\n",
       "        3.26887035e+05,  3.28801304e+05,  1.56362381e+05,  3.26887035e+05,\n",
       "        1.48483816e+06,  4.83791034e+05,  7.18175949e+05,  5.00320265e+05,\n",
       "        9.09566507e+04,  2.51752613e+05,  2.88817974e+05,  5.10463798e+05,\n",
       "        2.74182742e+05,  2.21605317e+05,  2.94856641e+05,  8.28062420e+05,\n",
       "        8.52655192e+05,  5.34617460e+05,  7.36108245e+05,  4.69195788e+05,\n",
       "        7.55313483e+05,  2.58282529e+05,  4.07531000e+05,  2.35995753e+05,\n",
       "        2.54369901e+05,  5.97165867e+05,  3.14754804e+05,  3.01797067e+05,\n",
       "        3.67499543e+05,  6.75917026e+05,  2.06623346e+05,  4.51749651e+05,\n",
       "        5.03575168e+05,  4.24453786e+05,  6.75080447e+05,  4.77964265e+05,\n",
       "        2.70025285e+05,  4.13898577e+05,  2.69379775e+05,  6.98182798e+05,\n",
       "        6.60903925e+04,  2.55908525e+05,  4.30237999e+05,  5.97165867e+05,\n",
       "        3.91149543e+05,  2.29581809e+05,  3.64343480e+05,  4.15588226e+05,\n",
       "        2.83045766e+05,  1.71252489e+05,  2.93563017e+05,  6.40061275e+05,\n",
       "        4.86697332e+05,  3.63653988e+05,  2.71673611e+05,  2.30414020e+05,\n",
       "        6.20866575e+05,  6.69254785e+04,  1.17095333e+05,  2.19394192e+05,\n",
       "        2.03941865e+05,  7.40642254e+05,  3.80981772e+05,  4.58424490e+05,\n",
       "        8.60442614e+05,  3.63349493e+05,  1.47403803e+06,  1.51463127e+05,\n",
       "        4.91333628e+05,  5.97640483e+05,  1.96519922e+05,  1.26722112e+05,\n",
       "        3.49798234e+05,  3.67157533e+04,  3.32513499e+05,  2.12753246e+04,\n",
       "        6.98182798e+05,  3.41937585e+05,  4.23496160e+05,  1.87522244e+05,\n",
       "        3.56493811e+05,  1.81438304e+05,  7.40642254e+05,  7.38450831e+05,\n",
       "        5.97640483e+05,  5.44059778e+05,  2.40890456e+05,  3.72001840e+05,\n",
       "        5.76526826e+04,  2.94856641e+05,  4.33732069e+04,  2.83593118e+05,\n",
       "        5.01950027e+05,  4.88236611e+05,  1.28958073e+05,  5.91538606e+05,\n",
       "        2.52281910e+05,  4.97479687e+05,  5.41220899e+05,  1.53629121e+06,\n",
       "        2.79518391e+05,  4.12695282e+05,  3.05938819e+05,  3.82038543e+04,\n",
       "        1.61014962e+05,  3.58759723e+05,  1.40019152e+05,  7.32404465e+05,\n",
       "        4.69393849e+05,  2.84760292e+05,  1.29875452e+05,  1.86586121e+05,\n",
       "        4.02560030e+05,  1.19804635e+06,  4.26781483e+05,  1.29651477e+05,\n",
       "        2.93424668e+05,  5.23482248e+05,  2.78023573e+05,  9.56248422e+05,\n",
       "        5.95890545e+04,  2.59772562e+05,  1.75791518e+05,  2.79167431e+05,\n",
       "        2.26163776e+05,  3.54551623e+05,  4.45771432e+05,  3.96022283e+04,\n",
       "        5.02658855e+05,  3.49940572e+05,  6.85031525e+04,  1.32247036e+05,\n",
       "        1.45507073e+05,  5.97316785e+05,  4.37836503e+05,  5.23482248e+05,\n",
       "        6.99550154e+05,  2.49750192e+05,  2.09535716e+05,  5.00526586e+05,\n",
       "       -9.02257573e+04,  2.05165575e+05,  7.29705806e+05,  1.51314306e+06,\n",
       "        3.08173625e+05,  2.10233338e+05,  4.49146101e+05,  8.55818640e+04,\n",
       "        2.10328772e+05,  3.76762104e+05,  3.63345540e+05,  2.64678667e+05,\n",
       "        3.80639052e+04,  4.05706911e+05,  3.52980105e+05,  5.20891117e+05,\n",
       "        2.59341243e+05,  2.36358684e+05,  1.68414303e+05,  1.84634534e+05,\n",
       "        3.43764871e+05,  3.12342226e+05,  5.25472007e+05,  2.90112767e+05,\n",
       "        4.24016454e+05,  5.36231878e+05,  5.30023637e+05,  2.42718439e+05,\n",
       "        5.41676765e+05,  4.31249741e+04,  7.10743938e+05,  4.51925766e+05,\n",
       "        2.88646728e+05,  4.46616022e+05,  2.30270445e+05,  4.97009012e+05,\n",
       "        6.97132467e+05,  1.56057319e+05,  3.27420987e+05,  3.31731747e+05,\n",
       "        5.09042381e+03,  3.23571671e+05,  3.16081019e+05,  6.97132467e+05,\n",
       "       -2.23582749e+04,  2.53263541e+05,  3.87950542e+05,  4.15484422e+05,\n",
       "        1.09124320e+05,  3.00272549e+05,  3.65394136e+05,  4.68725639e+05,\n",
       "        3.08932790e+05,  6.07290032e+05,  1.86605543e+05,  3.88109119e+05,\n",
       "        3.16150058e+05,  2.24338374e+05,  8.02127533e+04,  1.06824972e+05,\n",
       "        1.67088580e+05,  3.79756548e+05,  1.33981470e+06,  7.54106436e+05,\n",
       "        5.44777505e+05,  2.50575921e+05,  3.27310936e+05,  4.50140418e+05,\n",
       "        2.16765068e+05,  3.13368983e+05,  5.25860128e+05,  1.93340712e+05,\n",
       "        7.16406998e+05,  8.77559204e+05,  3.85707472e+05,  1.68917840e+05,\n",
       "        3.73282588e+05,  2.67551793e+05,  8.20588913e+05,  6.52825179e+05,\n",
       "        5.88859838e+05,  6.34425662e+05,  8.01967641e+05,  4.49677659e+05,\n",
       "        7.45270929e+04,  1.89348340e+05,  2.00460076e+05,  4.18630119e+05,\n",
       "       -1.04907811e+04,  3.60417008e+05,  1.88373897e+05,  3.97935275e+05,\n",
       "        2.03752684e+05,  1.95904320e+05,  3.81533518e+05,  7.17709843e+05,\n",
       "        3.76257427e+05,  4.67202891e+05,  1.54729290e+05,  4.15277412e+05,\n",
       "        4.00077082e+05,  2.45617599e+05,  2.16675128e+05, -7.93291257e+04,\n",
       "        8.88564936e+05,  6.69168431e+05,  4.19480551e+05,  5.03575168e+05,\n",
       "        3.92167873e+05,  4.38345519e+05,  2.63020021e+05,  1.53633675e+06,\n",
       "        5.97640483e+05,  3.69772988e+05,  2.47750138e+05,  5.95945035e+05,\n",
       "       -1.16512667e+01,  4.03048243e+05,  2.32829619e+05,  4.26254530e+05,\n",
       "       -6.89167521e+04,  5.97640483e+05,  6.65493306e+04,  6.16014312e+05,\n",
       "        1.85893996e+05,  7.02109147e+05,  1.50793865e+05,  3.23420519e+05,\n",
       "        3.50439156e+05,  3.27310936e+05,  5.45984685e+05,  1.11247036e+05,\n",
       "        5.96636570e+05,  1.13946328e+05,  5.21106455e+05,  3.08932790e+05,\n",
       "        3.65394136e+05,  2.13288366e+05,  5.97640483e+05,  4.13898577e+05,\n",
       "        3.16081799e+05,  1.44803080e+05,  4.49983578e+05,  5.43163087e+05,\n",
       "        2.31842664e+04,  6.47470916e+04,  3.60499987e+05,  5.00320265e+05,\n",
       "        5.21865498e+05,  2.71379011e+05,  2.47710415e+05,  2.73842455e+05,\n",
       "        2.91352065e+05,  6.34045407e+05,  3.04300997e+05,  3.84608664e+05,\n",
       "        2.52281910e+05,  2.65440740e+05,  5.19693563e+05,  4.58249203e+05,\n",
       "        3.64644285e+05,  3.91418795e+05,  2.01507814e+05,  8.29945324e+05,\n",
       "        3.27839467e+05,  2.43829419e+05,  4.50908143e+05,  4.67900996e+05,\n",
       "        2.67915648e+05,  1.02650360e+05,  1.15738246e+05,  7.76485235e+05,\n",
       "        2.30917841e+05,  6.34058299e+05,  2.93952234e+05, -1.70610072e+04,\n",
       "        2.71379011e+05,  7.96896509e+05,  3.01420181e+05,  3.17637486e+05,\n",
       "        7.16406998e+05,  7.44526631e+05,  7.56358079e+05,  6.75917026e+05,\n",
       "        6.68621642e+05,  3.50624331e+05,  4.79083976e+05,  6.88537223e+05])"
      ]
     },
     "execution_count": 42,
     "metadata": {},
     "output_type": "execute_result"
    }
   ],
   "source": [
    "y_pred"
   ]
  },
  {
   "cell_type": "code",
   "execution_count": null,
   "id": "fc4067db",
   "metadata": {},
   "outputs": [
    {
     "data": {
      "text/plain": [
       "0.47230397647776523"
      ]
     },
     "execution_count": 43,
     "metadata": {},
     "output_type": "execute_result"
    },
    {
     "data": {
      "text/plain": [
       "0.47230397647776523"
      ]
     },
     "execution_count": 43,
     "metadata": {},
     "output_type": "execute_result"
    }
   ],
   "source": [
    "r2_score(y_test,y_pred)"
   ]
  },
  {
   "cell_type": "code",
   "execution_count": null,
   "id": "50fd09ca",
   "metadata": {},
   "outputs": [
    {
     "ename": "NameError",
     "evalue": "name 'train_test_split' is not defined",
     "output_type": "error",
     "traceback": [
      "\u001b[1;31m---------------------------------------------------------------------------\u001b[0m",
      "\u001b[1;31mNameError\u001b[0m                                 Traceback (most recent call last)",
      "\u001b[1;32m~\\AppData\\Local\\Temp/ipykernel_32372/1999043901.py\u001b[0m in \u001b[0;36m<module>\u001b[1;34m\u001b[0m\n\u001b[0;32m      1\u001b[0m \u001b[0mscores\u001b[0m\u001b[1;33m=\u001b[0m\u001b[1;33m[\u001b[0m\u001b[1;33m]\u001b[0m\u001b[1;33m\u001b[0m\u001b[1;33m\u001b[0m\u001b[0m\n\u001b[0;32m      2\u001b[0m \u001b[1;32mfor\u001b[0m \u001b[0mi\u001b[0m \u001b[1;32min\u001b[0m \u001b[0mrange\u001b[0m\u001b[1;33m(\u001b[0m\u001b[1;36m1000\u001b[0m\u001b[1;33m)\u001b[0m\u001b[1;33m:\u001b[0m\u001b[1;33m\u001b[0m\u001b[1;33m\u001b[0m\u001b[0m\n\u001b[1;32m----> 3\u001b[1;33m     \u001b[0mX_train\u001b[0m\u001b[1;33m,\u001b[0m\u001b[0mX_test\u001b[0m\u001b[1;33m,\u001b[0m\u001b[0my_train\u001b[0m\u001b[1;33m,\u001b[0m\u001b[0my_test\u001b[0m\u001b[1;33m=\u001b[0m\u001b[0mtrain_test_split\u001b[0m\u001b[1;33m(\u001b[0m\u001b[0mX\u001b[0m\u001b[1;33m,\u001b[0m\u001b[0my\u001b[0m\u001b[1;33m,\u001b[0m\u001b[0mtest_size\u001b[0m\u001b[1;33m=\u001b[0m\u001b[1;36m0.2\u001b[0m\u001b[1;33m,\u001b[0m\u001b[0mrandom_state\u001b[0m\u001b[1;33m=\u001b[0m\u001b[0mi\u001b[0m\u001b[1;33m)\u001b[0m\u001b[1;33m\u001b[0m\u001b[1;33m\u001b[0m\u001b[0m\n\u001b[0m\u001b[0;32m      4\u001b[0m     \u001b[0mlr\u001b[0m\u001b[1;33m=\u001b[0m\u001b[0mLinearRegression\u001b[0m\u001b[1;33m(\u001b[0m\u001b[1;33m)\u001b[0m\u001b[1;33m\u001b[0m\u001b[1;33m\u001b[0m\u001b[0m\n\u001b[0;32m      5\u001b[0m     \u001b[0mpipe\u001b[0m\u001b[1;33m=\u001b[0m\u001b[0mmake_pipeline\u001b[0m\u001b[1;33m(\u001b[0m\u001b[0mcolumn_trans\u001b[0m\u001b[1;33m,\u001b[0m\u001b[0mlr\u001b[0m\u001b[1;33m)\u001b[0m\u001b[1;33m\u001b[0m\u001b[1;33m\u001b[0m\u001b[0m\n",
      "\u001b[1;31mNameError\u001b[0m: name 'train_test_split' is not defined"
     ]
    }
   ],
   "source": [
    "scores=[]\n",
    "for i in range(1000):\n",
    "    X_train,X_test,y_train,y_test=train_test_split(X,y,test_size=0.2,random_state=i)\n",
    "    lr=LinearRegression()\n",
    "    pipe=make_pipeline(column_trans,lr)\n",
    "    pipe.fit(X_train,y_train)\n",
    "    y_pred=pipe.predict(X_test)\n",
    "    print(r2_score(y_test,y_pred),i)\n",
    "    scores.append(r2_score(y_test,y_pred))"
   ]
  },
  {
   "cell_type": "code",
   "execution_count": null,
   "id": "f2c58f50",
   "metadata": {},
   "outputs": [],
   "source": [
    "import numpy as np\n",
    "np.argmax(scores)"
   ]
  },
  {
   "cell_type": "code",
   "execution_count": null,
   "id": "d0d33660",
   "metadata": {},
   "outputs": [],
   "source": [
    "scores[np.argmax(scores)]"
   ]
  },
  {
   "cell_type": "code",
   "execution_count": null,
   "id": "bff3b1f5",
   "metadata": {},
   "outputs": [],
   "source": [
    "X_train,X_test,y_train,y_test=train_test_split(X,y,test_size=0.2,random_state=np.argmax(scores))\n",
    "lr=LinearRegression()\n",
    "pipe=make_pipeline(column_trans,lr)\n",
    "pipe.fit(X_train,y_train)\n",
    "y_pred=pipe.predict(X_test)\n",
    "r2_score(y_test,y_pred)"
   ]
  },
  {
   "cell_type": "code",
   "execution_count": null,
   "id": "bb23d2a1",
   "metadata": {},
   "outputs": [
    {
     "name": "stdout",
     "output_type": "stream",
     "text": [
      "Collecting pickle-mixin\n",
      "  Downloading pickle-mixin-1.0.2.tar.gz (5.1 kB)\n",
      "Using legacy 'setup.py install' for pickle-mixin, since package 'wheel' is not installed.\n",
      "Installing collected packages: pickle-mixin\n",
      "    Running setup.py install for pickle-mixin: started\n",
      "    Running setup.py install for pickle-mixin: finished with status 'done'\n",
      "Successfully installed pickle-mixin-1.0.2\n",
      "Note: you may need to restart the kernel to use updated packages.\n"
     ]
    },
    {
     "name": "stderr",
     "output_type": "stream",
     "text": [
      "WARNING: You are using pip version 21.2.1; however, version 21.3.1 is available.\n",
      "You should consider upgrading via the 'C:\\Users\\manan\\AppData\\Local\\Programs\\Python\\Python39\\python.exe -m pip install --upgrade pip' command.\n"
     ]
    }
   ],
   "source": [
    "%pip install pickle-mixin"
   ]
  },
  {
   "cell_type": "code",
   "execution_count": null,
   "id": "e1dd4f04",
   "metadata": {},
   "outputs": [],
   "source": [
    "import pickle\n"
   ]
  },
  {
   "cell_type": "code",
   "execution_count": null,
   "id": "40d42aca",
   "metadata": {},
   "outputs": [
    {
     "ename": "NameError",
     "evalue": "name 'pickle' is not defined",
     "output_type": "error",
     "traceback": [
      "\u001b[1;31m---------------------------------------------------------------------------\u001b[0m",
      "\u001b[1;31mNameError\u001b[0m                                 Traceback (most recent call last)",
      "\u001b[1;32m~\\AppData\\Local\\Temp/ipykernel_32372/785286853.py\u001b[0m in \u001b[0;36m<module>\u001b[1;34m\u001b[0m\n\u001b[1;32m----> 1\u001b[1;33m \u001b[0mpickle\u001b[0m\u001b[1;33m.\u001b[0m\u001b[0mdump\u001b[0m\u001b[1;33m(\u001b[0m\u001b[0mpipe\u001b[0m\u001b[1;33m,\u001b[0m\u001b[0mopen\u001b[0m\u001b[1;33m(\u001b[0m\u001b[1;34m'LinearregressionModel.pkl'\u001b[0m\u001b[1;33m,\u001b[0m\u001b[1;34m'wb'\u001b[0m\u001b[1;33m)\u001b[0m\u001b[1;33m)\u001b[0m\u001b[1;33m\u001b[0m\u001b[1;33m\u001b[0m\u001b[0m\n\u001b[0m",
      "\u001b[1;31mNameError\u001b[0m: name 'pickle' is not defined"
     ]
    }
   ],
   "source": [
    "pickle.dump(pipe,open('LinearregressionModel.pkl','wb'))"
   ]
  },
  {
   "cell_type": "code",
   "execution_count": null,
   "id": "aa38e82b",
   "metadata": {},
   "outputs": [
    {
     "ename": "NameError",
     "evalue": "name 'pipe' is not defined",
     "output_type": "error",
     "traceback": [
      "\u001b[1;31m---------------------------------------------------------------------------\u001b[0m",
      "\u001b[1;31mNameError\u001b[0m                                 Traceback (most recent call last)",
      "\u001b[1;32m~\\AppData\\Local\\Temp/ipykernel_32372/2401617712.py\u001b[0m in \u001b[0;36m<module>\u001b[1;34m\u001b[0m\n\u001b[1;32m----> 1\u001b[1;33m \u001b[0mpipe\u001b[0m\u001b[1;33m.\u001b[0m\u001b[0mpredict\u001b[0m\u001b[1;33m(\u001b[0m\u001b[0mpd\u001b[0m\u001b[1;33m.\u001b[0m\u001b[0mDataFrame\u001b[0m\u001b[1;33m(\u001b[0m\u001b[1;33m[\u001b[0m\u001b[1;33m[\u001b[0m\u001b[1;34m'Maruti Suzuki Swift'\u001b[0m\u001b[1;33m,\u001b[0m\u001b[1;34m'Maruti'\u001b[0m\u001b[1;33m,\u001b[0m\u001b[1;36m2019\u001b[0m\u001b[1;33m,\u001b[0m\u001b[1;36m100\u001b[0m\u001b[1;33m,\u001b[0m\u001b[1;34m'Petrol'\u001b[0m\u001b[1;33m]\u001b[0m\u001b[1;33m]\u001b[0m\u001b[1;33m,\u001b[0m\u001b[0mcolumns\u001b[0m\u001b[1;33m=\u001b[0m\u001b[1;33m[\u001b[0m\u001b[1;34m'name'\u001b[0m\u001b[1;33m,\u001b[0m\u001b[1;34m'company'\u001b[0m\u001b[1;33m,\u001b[0m\u001b[1;34m'year'\u001b[0m\u001b[1;33m,\u001b[0m\u001b[1;34m'kms_driven'\u001b[0m\u001b[1;33m,\u001b[0m\u001b[1;34m'fuel_type'\u001b[0m\u001b[1;33m]\u001b[0m\u001b[1;33m)\u001b[0m\u001b[1;33m)\u001b[0m\u001b[1;33m\u001b[0m\u001b[1;33m\u001b[0m\u001b[0m\n\u001b[0m",
      "\u001b[1;31mNameError\u001b[0m: name 'pipe' is not defined"
     ]
    }
   ],
   "source": [
    "pipe.predict(pd.DataFrame([['Maruti Suzuki Swift','Maruti',2019,100,'Petrol']],columns=['name','company','year','kms_driven','fuel_type']))"
   ]
  },
  {
   "cell_type": "code",
   "execution_count": null,
   "id": "c498d0d8",
   "metadata": {},
   "outputs": [],
   "source": []
  }
 ],
 "metadata": {
  "kernelspec": {
   "display_name": "Python 3 (ipykernel)",
   "language": "python",
   "name": "python3"
  },
  "language_info": {
   "codemirror_mode": {
    "name": "ipython",
    "version": 3
   },
   "file_extension": ".py",
   "mimetype": "text/x-python",
   "name": "python",
   "nbconvert_exporter": "python",
   "pygments_lexer": "ipython3",
   "version": "3.9.6"
  }
 },
 "nbformat": 4,
 "nbformat_minor": 5
}
