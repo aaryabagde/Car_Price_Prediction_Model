{
 "cells": [
  {
   "cell_type": "code",
   "execution_count": 1,
   "id": "b9f79193-042b-437d-b208-e82fb8d4b8ed",
   "metadata": {},
   "outputs": [
    {
     "name": "stdout",
     "output_type": "stream",
     "text": [
      "                                       name    company  year          Price  \\\n",
      "0      Hyundai Santro Xing XO eRLX Euro III    Hyundai  2007         80,000   \n",
      "1                   Mahindra Jeep CL550 MDI   Mahindra  2006       4,25,000   \n",
      "2                Maruti Suzuki Alto 800 Vxi     Maruti  2018  Ask For Price   \n",
      "3    Hyundai Grand i10 Magna 1.2 Kappa VTVT    Hyundai  2014       3,25,000   \n",
      "4          Ford EcoSport Titanium 1.5L TDCi       Ford  2014       5,75,000   \n",
      "..                                      ...        ...   ...            ...   \n",
      "887                                      Ta       Tara  zest       3,10,000   \n",
      "888                     Tata Zest XM Diesel       Tata  2018       2,60,000   \n",
      "889                      Mahindra Quanto C8   Mahindra  2013       3,90,000   \n",
      "890                Honda Amaze 1.2 E i VTEC      Honda  2014       1,80,000   \n",
      "891               Chevrolet Sail 1.2 LT ABS  Chevrolet  2014       1,60,000   \n",
      "\n",
      "     kms_driven fuel_type  \n",
      "0    45,000 kms    Petrol  \n",
      "1        40 kms    Diesel  \n",
      "2    22,000 kms    Petrol  \n",
      "3    28,000 kms    Petrol  \n",
      "4    36,000 kms    Diesel  \n",
      "..          ...       ...  \n",
      "887         NaN       NaN  \n",
      "888  27,000 kms    Diesel  \n",
      "889  40,000 kms    Diesel  \n",
      "890      Petrol       NaN  \n",
      "891      Petrol       NaN  \n",
      "\n",
      "[892 rows x 6 columns]\n"
     ]
    }
   ],
   "source": [
    "import pandas as pd\n",
    "car=pd.read_csv('Car_DataSet.csv')\n",
    "print(car)"
   ]
  },
  {
   "cell_type": "code",
   "execution_count": 2,
   "id": "2b5e2698-8091-4704-a43a-9ecdbe6e36c1",
   "metadata": {},
   "outputs": [],
   "source": [
    "backup=car.copy()\n",
    "car=car[car['year'].str.isnumeric()]"
   ]
  },
  {
   "cell_type": "code",
   "execution_count": 3,
   "id": "694e84dd-ef51-4b02-be2a-3d271dedb035",
   "metadata": {},
   "outputs": [
    {
     "name": "stdout",
     "output_type": "stream",
     "text": [
      "                                       name    company  year          Price  \\\n",
      "0      Hyundai Santro Xing XO eRLX Euro III    Hyundai  2007         80,000   \n",
      "1                   Mahindra Jeep CL550 MDI   Mahindra  2006       4,25,000   \n",
      "2                Maruti Suzuki Alto 800 Vxi     Maruti  2018  Ask For Price   \n",
      "3    Hyundai Grand i10 Magna 1.2 Kappa VTVT    Hyundai  2014       3,25,000   \n",
      "4          Ford EcoSport Titanium 1.5L TDCi       Ford  2014       5,75,000   \n",
      "..                                      ...        ...   ...            ...   \n",
      "886                    Toyota Corolla Altis     Toyota  2009       3,00,000   \n",
      "888                     Tata Zest XM Diesel       Tata  2018       2,60,000   \n",
      "889                      Mahindra Quanto C8   Mahindra  2013       3,90,000   \n",
      "890                Honda Amaze 1.2 E i VTEC      Honda  2014       1,80,000   \n",
      "891               Chevrolet Sail 1.2 LT ABS  Chevrolet  2014       1,60,000   \n",
      "\n",
      "       kms_driven fuel_type  \n",
      "0      45,000 kms    Petrol  \n",
      "1          40 kms    Diesel  \n",
      "2      22,000 kms    Petrol  \n",
      "3      28,000 kms    Petrol  \n",
      "4      36,000 kms    Diesel  \n",
      "..            ...       ...  \n",
      "886  1,32,000 kms    Petrol  \n",
      "888    27,000 kms    Diesel  \n",
      "889    40,000 kms    Diesel  \n",
      "890        Petrol       NaN  \n",
      "891        Petrol       NaN  \n",
      "\n",
      "[842 rows x 6 columns]\n"
     ]
    }
   ],
   "source": [
    "print(car)"
   ]
  },
  {
   "cell_type": "markdown",
   "id": "145b2886-d2dd-41ab-989d-1b10cd175be5",
   "metadata": {},
   "source": [
    "##quality"
   ]
  },
  {
   "cell_type": "code",
   "execution_count": 4,
   "id": "a60db95b-96c7-4778-88fd-dce2e18b2817",
   "metadata": {},
   "outputs": [],
   "source": [
    "car['year']=car['year'].astype(int)"
   ]
  },
  {
   "cell_type": "code",
   "execution_count": 5,
   "id": "2742ef12-5a79-41ed-a394-f21de5d18364",
   "metadata": {},
   "outputs": [
    {
     "name": "stdout",
     "output_type": "stream",
     "text": [
      "                                       name    company  year          Price  \\\n",
      "0      Hyundai Santro Xing XO eRLX Euro III    Hyundai  2007         80,000   \n",
      "1                   Mahindra Jeep CL550 MDI   Mahindra  2006       4,25,000   \n",
      "2                Maruti Suzuki Alto 800 Vxi     Maruti  2018  Ask For Price   \n",
      "3    Hyundai Grand i10 Magna 1.2 Kappa VTVT    Hyundai  2014       3,25,000   \n",
      "4          Ford EcoSport Titanium 1.5L TDCi       Ford  2014       5,75,000   \n",
      "..                                      ...        ...   ...            ...   \n",
      "886                    Toyota Corolla Altis     Toyota  2009       3,00,000   \n",
      "888                     Tata Zest XM Diesel       Tata  2018       2,60,000   \n",
      "889                      Mahindra Quanto C8   Mahindra  2013       3,90,000   \n",
      "890                Honda Amaze 1.2 E i VTEC      Honda  2014       1,80,000   \n",
      "891               Chevrolet Sail 1.2 LT ABS  Chevrolet  2014       1,60,000   \n",
      "\n",
      "       kms_driven fuel_type  \n",
      "0      45,000 kms    Petrol  \n",
      "1          40 kms    Diesel  \n",
      "2      22,000 kms    Petrol  \n",
      "3      28,000 kms    Petrol  \n",
      "4      36,000 kms    Diesel  \n",
      "..            ...       ...  \n",
      "886  1,32,000 kms    Petrol  \n",
      "888    27,000 kms    Diesel  \n",
      "889    40,000 kms    Diesel  \n",
      "890        Petrol       NaN  \n",
      "891        Petrol       NaN  \n",
      "\n",
      "[842 rows x 6 columns]\n"
     ]
    }
   ],
   "source": [
    "print(car)"
   ]
  },
  {
   "cell_type": "code",
   "execution_count": 6,
   "id": "eb69c0de-c05b-4b7f-bc18-04a4a781c411",
   "metadata": {},
   "outputs": [
    {
     "name": "stdout",
     "output_type": "stream",
     "text": [
      "int32\n"
     ]
    }
   ],
   "source": [
    "print(car['year'].dtype)"
   ]
  },
  {
   "cell_type": "code",
   "execution_count": 7,
   "id": "73e5379e-d4ef-4b79-8038-56b35739842b",
   "metadata": {},
   "outputs": [
    {
     "name": "stdout",
     "output_type": "stream",
     "text": [
      "                                       name    company  year          Price  \\\n",
      "0      Hyundai Santro Xing XO eRLX Euro III    Hyundai  2007         80,000   \n",
      "1                   Mahindra Jeep CL550 MDI   Mahindra  2006       4,25,000   \n",
      "2                Maruti Suzuki Alto 800 Vxi     Maruti  2018  Ask For Price   \n",
      "3    Hyundai Grand i10 Magna 1.2 Kappa VTVT    Hyundai  2014       3,25,000   \n",
      "4          Ford EcoSport Titanium 1.5L TDCi       Ford  2014       5,75,000   \n",
      "..                                      ...        ...   ...            ...   \n",
      "886                    Toyota Corolla Altis     Toyota  2009       3,00,000   \n",
      "888                     Tata Zest XM Diesel       Tata  2018       2,60,000   \n",
      "889                      Mahindra Quanto C8   Mahindra  2013       3,90,000   \n",
      "890                Honda Amaze 1.2 E i VTEC      Honda  2014       1,80,000   \n",
      "891               Chevrolet Sail 1.2 LT ABS  Chevrolet  2014       1,60,000   \n",
      "\n",
      "       kms_driven fuel_type  \n",
      "0      45,000 kms    Petrol  \n",
      "1          40 kms    Diesel  \n",
      "2      22,000 kms    Petrol  \n",
      "3      28,000 kms    Petrol  \n",
      "4      36,000 kms    Diesel  \n",
      "..            ...       ...  \n",
      "886  1,32,000 kms    Petrol  \n",
      "888    27,000 kms    Diesel  \n",
      "889    40,000 kms    Diesel  \n",
      "890        Petrol       NaN  \n",
      "891        Petrol       NaN  \n",
      "\n",
      "[842 rows x 6 columns]\n"
     ]
    }
   ],
   "source": [
    "print(car)"
   ]
  },
  {
   "cell_type": "code",
   "execution_count": 8,
   "id": "71681927",
   "metadata": {},
   "outputs": [
    {
     "name": "stdout",
     "output_type": "stream",
     "text": [
      "<class 'pandas.core.frame.DataFrame'>\n",
      "Int64Index: 842 entries, 0 to 891\n",
      "Data columns (total 6 columns):\n",
      " #   Column      Non-Null Count  Dtype \n",
      "---  ------      --------------  ----- \n",
      " 0   name        842 non-null    object\n",
      " 1   company     842 non-null    object\n",
      " 2   year        842 non-null    int32 \n",
      " 3   Price       842 non-null    object\n",
      " 4   kms_driven  840 non-null    object\n",
      " 5   fuel_type   837 non-null    object\n",
      "dtypes: int32(1), object(5)\n",
      "memory usage: 42.8+ KB\n"
     ]
    }
   ],
   "source": [
    "car.info()"
   ]
  },
  {
   "cell_type": "code",
   "execution_count": 9,
   "id": "1cb111a0",
   "metadata": {},
   "outputs": [
    {
     "name": "stdout",
     "output_type": "stream",
     "text": [
      "                                       name    company  year     Price  \\\n",
      "0      Hyundai Santro Xing XO eRLX Euro III    Hyundai  2007    80,000   \n",
      "1                   Mahindra Jeep CL550 MDI   Mahindra  2006  4,25,000   \n",
      "3    Hyundai Grand i10 Magna 1.2 Kappa VTVT    Hyundai  2014  3,25,000   \n",
      "4          Ford EcoSport Titanium 1.5L TDCi       Ford  2014  5,75,000   \n",
      "6                                 Ford Figo       Ford  2012  1,75,000   \n",
      "..                                      ...        ...   ...       ...   \n",
      "886                    Toyota Corolla Altis     Toyota  2009  3,00,000   \n",
      "888                     Tata Zest XM Diesel       Tata  2018  2,60,000   \n",
      "889                      Mahindra Quanto C8   Mahindra  2013  3,90,000   \n",
      "890                Honda Amaze 1.2 E i VTEC      Honda  2014  1,80,000   \n",
      "891               Chevrolet Sail 1.2 LT ABS  Chevrolet  2014  1,60,000   \n",
      "\n",
      "       kms_driven fuel_type  \n",
      "0      45,000 kms    Petrol  \n",
      "1          40 kms    Diesel  \n",
      "3      28,000 kms    Petrol  \n",
      "4      36,000 kms    Diesel  \n",
      "6      41,000 kms    Diesel  \n",
      "..            ...       ...  \n",
      "886  1,32,000 kms    Petrol  \n",
      "888    27,000 kms    Diesel  \n",
      "889    40,000 kms    Diesel  \n",
      "890        Petrol       NaN  \n",
      "891        Petrol       NaN  \n",
      "\n",
      "[819 rows x 6 columns]\n"
     ]
    }
   ],
   "source": [
    "car=car[car['Price']!='Ask For Price']\n",
    "print(car)"
   ]
  },
  {
   "cell_type": "code",
   "execution_count": 10,
   "id": "3d0057a1",
   "metadata": {},
   "outputs": [
    {
     "data": {
      "text/plain": [
       "0        80,000\n",
       "1      4,25,000\n",
       "3      3,25,000\n",
       "4      5,75,000\n",
       "6      1,75,000\n",
       "         ...   \n",
       "886    3,00,000\n",
       "888    2,60,000\n",
       "889    3,90,000\n",
       "890    1,80,000\n",
       "891    1,60,000\n",
       "Name: Price, Length: 819, dtype: object"
      ]
     },
     "execution_count": 10,
     "metadata": {},
     "output_type": "execute_result"
    }
   ],
   "source": [
    "car['Price']"
   ]
  },
  {
   "cell_type": "code",
   "execution_count": 11,
   "id": "5a79f0db",
   "metadata": {},
   "outputs": [],
   "source": [
    "car['Price']=car['Price'].str.replace(',','')"
   ]
  },
  {
   "cell_type": "code",
   "execution_count": 12,
   "id": "5d10ede9",
   "metadata": {},
   "outputs": [
    {
     "name": "stdout",
     "output_type": "stream",
     "text": [
      "0       80000\n",
      "1      425000\n",
      "3      325000\n",
      "4      575000\n",
      "6      175000\n",
      "        ...  \n",
      "886    300000\n",
      "888    260000\n",
      "889    390000\n",
      "890    180000\n",
      "891    160000\n",
      "Name: Price, Length: 819, dtype: object\n"
     ]
    }
   ],
   "source": [
    "print(car['Price'])"
   ]
  },
  {
   "cell_type": "code",
   "execution_count": 13,
   "id": "fdfb8cfe",
   "metadata": {},
   "outputs": [
    {
     "name": "stdout",
     "output_type": "stream",
     "text": [
      "int32\n"
     ]
    }
   ],
   "source": [
    "car['Price']=car['Price'].astype(int)\n",
    "print(car['Price'].dtype)"
   ]
  },
  {
   "cell_type": "code",
   "execution_count": 14,
   "id": "9c6d0986",
   "metadata": {},
   "outputs": [
    {
     "name": "stdout",
     "output_type": "stream",
     "text": [
      "0        45,000 \n",
      "1            40 \n",
      "3        28,000 \n",
      "4        36,000 \n",
      "6        41,000 \n",
      "         ...    \n",
      "886    1,32,000 \n",
      "888      27,000 \n",
      "889      40,000 \n",
      "890       Petrol\n",
      "891       Petrol\n",
      "Name: kms_driven, Length: 819, dtype: object\n"
     ]
    }
   ],
   "source": [
    "car['kms_driven']=car['kms_driven'].str.replace('kms',\"\")\n",
    "print(car['kms_driven'])"
   ]
  },
  {
   "cell_type": "code",
   "execution_count": 15,
   "id": "6a93681b",
   "metadata": {},
   "outputs": [
    {
     "name": "stdout",
     "output_type": "stream",
     "text": [
      "0       45000 \n",
      "1          40 \n",
      "3       28000 \n",
      "4       36000 \n",
      "6       41000 \n",
      "        ...   \n",
      "886    132000 \n",
      "888     27000 \n",
      "889     40000 \n",
      "890     Petrol\n",
      "891     Petrol\n",
      "Name: kms_driven, Length: 819, dtype: object\n"
     ]
    }
   ],
   "source": [
    "car['kms_driven']=car['kms_driven'].str.replace(\",\",\"\")\n",
    "print(car['kms_driven'])"
   ]
  },
  {
   "cell_type": "code",
   "execution_count": 16,
   "id": "8706d09f",
   "metadata": {},
   "outputs": [
    {
     "name": "stdout",
     "output_type": "stream",
     "text": [
      "0      2007\n",
      "1      2006\n",
      "3      2014\n",
      "4      2014\n",
      "6      2012\n",
      "       ... \n",
      "886    2009\n",
      "888    2018\n",
      "889    2013\n",
      "890    2014\n",
      "891    2014\n",
      "Name: year, Length: 819, dtype: int32\n"
     ]
    }
   ],
   "source": [
    "print(car['year'])"
   ]
  },
  {
   "cell_type": "code",
   "execution_count": 17,
   "id": "14e68ffd",
   "metadata": {},
   "outputs": [],
   "source": [
    "car=car[car['kms_driven']!='Petrol']"
   ]
  },
  {
   "cell_type": "code",
   "execution_count": 18,
   "id": "3f878cc9",
   "metadata": {},
   "outputs": [
    {
     "name": "stdout",
     "output_type": "stream",
     "text": [
      "0       45000 \n",
      "1          40 \n",
      "3       28000 \n",
      "4       36000 \n",
      "6       41000 \n",
      "        ...   \n",
      "883     50000 \n",
      "885     30000 \n",
      "886    132000 \n",
      "888     27000 \n",
      "889     40000 \n",
      "Name: kms_driven, Length: 817, dtype: object\n"
     ]
    }
   ],
   "source": [
    "print(car['kms_driven'])"
   ]
  },
  {
   "cell_type": "code",
   "execution_count": 19,
   "id": "2621ae25",
   "metadata": {},
   "outputs": [],
   "source": [
    "car['kms_driven']=car['kms_driven'].astype(int)"
   ]
  },
  {
   "cell_type": "code",
   "execution_count": 20,
   "id": "8f992573",
   "metadata": {},
   "outputs": [
    {
     "name": "stdout",
     "output_type": "stream",
     "text": [
      "int32\n"
     ]
    }
   ],
   "source": [
    "print(car['kms_driven'].dtype)"
   ]
  },
  {
   "cell_type": "code",
   "execution_count": 21,
   "id": "7390b3ea",
   "metadata": {},
   "outputs": [
    {
     "name": "stdout",
     "output_type": "stream",
     "text": [
      "                                       name   company  year   Price  \\\n",
      "0      Hyundai Santro Xing XO eRLX Euro III   Hyundai  2007   80000   \n",
      "1                   Mahindra Jeep CL550 MDI  Mahindra  2006  425000   \n",
      "3    Hyundai Grand i10 Magna 1.2 Kappa VTVT   Hyundai  2014  325000   \n",
      "4          Ford EcoSport Titanium 1.5L TDCi      Ford  2014  575000   \n",
      "6                                 Ford Figo      Ford  2012  175000   \n",
      "..                                      ...       ...   ...     ...   \n",
      "883              Maruti Suzuki Ritz VXI ABS    Maruti  2011  270000   \n",
      "885               Tata Indica V2 DLE BS III      Tata  2009  110000   \n",
      "886                    Toyota Corolla Altis    Toyota  2009  300000   \n",
      "888                     Tata Zest XM Diesel      Tata  2018  260000   \n",
      "889                      Mahindra Quanto C8  Mahindra  2013  390000   \n",
      "\n",
      "     kms_driven fuel_type  \n",
      "0         45000    Petrol  \n",
      "1            40    Diesel  \n",
      "3         28000    Petrol  \n",
      "4         36000    Diesel  \n",
      "6         41000    Diesel  \n",
      "..          ...       ...  \n",
      "883       50000    Petrol  \n",
      "885       30000    Diesel  \n",
      "886      132000    Petrol  \n",
      "888       27000    Diesel  \n",
      "889       40000    Diesel  \n",
      "\n",
      "[816 rows x 6 columns]\n"
     ]
    }
   ],
   "source": [
    "car=car.dropna()\n",
    "print(car)"
   ]
  },
  {
   "cell_type": "code",
   "execution_count": 22,
   "id": "2f384ac2",
   "metadata": {},
   "outputs": [
    {
     "data": {
      "text/plain": [
       "dtype('O')"
      ]
     },
     "execution_count": 22,
     "metadata": {},
     "output_type": "execute_result"
    }
   ],
   "source": [
    "car['name'].dtype"
   ]
  },
  {
   "cell_type": "code",
   "execution_count": 23,
   "id": "74a58e42",
   "metadata": {},
   "outputs": [
    {
     "name": "stdout",
     "output_type": "stream",
     "text": [
      "0        Hyundai Santro Xing XO eRLX Euro III\n",
      "1                     Mahindra Jeep CL550 MDI\n",
      "3      Hyundai Grand i10 Magna 1.2 Kappa VTVT\n",
      "4            Ford EcoSport Titanium 1.5L TDCi\n",
      "6                                   Ford Figo\n",
      "                        ...                  \n",
      "883                Maruti Suzuki Ritz VXI ABS\n",
      "885                 Tata Indica V2 DLE BS III\n",
      "886                      Toyota Corolla Altis\n",
      "888                       Tata Zest XM Diesel\n",
      "889                        Mahindra Quanto C8\n",
      "Name: name, Length: 816, dtype: object\n"
     ]
    }
   ],
   "source": [
    "print(car['name'])"
   ]
  },
  {
   "cell_type": "code",
   "execution_count": 24,
   "id": "1ed8c0c4",
   "metadata": {},
   "outputs": [
    {
     "name": "stdout",
     "output_type": "stream",
     "text": [
      "0        Hyundai Santro Xing XO eRLX Euro III\n",
      "1                     Mahindra Jeep CL550 MDI\n",
      "3      Hyundai Grand i10 Magna 1.2 Kappa VTVT\n",
      "4            Ford EcoSport Titanium 1.5L TDCi\n",
      "6                                   Ford Figo\n",
      "                        ...                  \n",
      "883                Maruti Suzuki Ritz VXI ABS\n",
      "885                 Tata Indica V2 DLE BS III\n",
      "886                      Toyota Corolla Altis\n",
      "888                       Tata Zest XM Diesel\n",
      "889                        Mahindra Quanto C8\n",
      "Name: name, Length: 816, dtype: object\n"
     ]
    }
   ],
   "source": [
    "print(car['name'])"
   ]
  },
  {
   "cell_type": "code",
   "execution_count": 25,
   "id": "297f691d",
   "metadata": {},
   "outputs": [],
   "source": [
    "car['name']=car['name'].str.split(' ').str.slice(0,3).str.join(' ')"
   ]
  },
  {
   "cell_type": "code",
   "execution_count": 26,
   "id": "6c51ce9a",
   "metadata": {},
   "outputs": [
    {
     "name": "stdout",
     "output_type": "stream",
     "text": [
      "0         Hyundai Santro Xing\n",
      "1         Mahindra Jeep CL550\n",
      "3           Hyundai Grand i10\n",
      "4      Ford EcoSport Titanium\n",
      "6                   Ford Figo\n",
      "                ...          \n",
      "883        Maruti Suzuki Ritz\n",
      "885            Tata Indica V2\n",
      "886      Toyota Corolla Altis\n",
      "888              Tata Zest XM\n",
      "889        Mahindra Quanto C8\n",
      "Name: name, Length: 816, dtype: object\n"
     ]
    }
   ],
   "source": [
    "print(car['name'])"
   ]
  },
  {
   "cell_type": "code",
   "execution_count": 27,
   "id": "60d9ce8c",
   "metadata": {},
   "outputs": [],
   "source": [
    "car=car.reset_index(drop=True)"
   ]
  },
  {
   "cell_type": "code",
   "execution_count": 28,
   "id": "1821c4ca",
   "metadata": {},
   "outputs": [
    {
     "name": "stdout",
     "output_type": "stream",
     "text": [
      "                       name   company  year   Price  kms_driven fuel_type\n",
      "0       Hyundai Santro Xing   Hyundai  2007   80000       45000    Petrol\n",
      "1       Mahindra Jeep CL550  Mahindra  2006  425000          40    Diesel\n",
      "2         Hyundai Grand i10   Hyundai  2014  325000       28000    Petrol\n",
      "3    Ford EcoSport Titanium      Ford  2014  575000       36000    Diesel\n",
      "4                 Ford Figo      Ford  2012  175000       41000    Diesel\n",
      "..                      ...       ...   ...     ...         ...       ...\n",
      "811      Maruti Suzuki Ritz    Maruti  2011  270000       50000    Petrol\n",
      "812          Tata Indica V2      Tata  2009  110000       30000    Diesel\n",
      "813    Toyota Corolla Altis    Toyota  2009  300000      132000    Petrol\n",
      "814            Tata Zest XM      Tata  2018  260000       27000    Diesel\n",
      "815      Mahindra Quanto C8  Mahindra  2013  390000       40000    Diesel\n",
      "\n",
      "[816 rows x 6 columns]\n"
     ]
    }
   ],
   "source": [
    "print(car)"
   ]
  },
  {
   "cell_type": "code",
   "execution_count": 29,
   "id": "4553aaef",
   "metadata": {},
   "outputs": [
    {
     "name": "stdout",
     "output_type": "stream",
     "text": [
      "<class 'pandas.core.frame.DataFrame'>\n",
      "RangeIndex: 816 entries, 0 to 815\n",
      "Data columns (total 6 columns):\n",
      " #   Column      Non-Null Count  Dtype \n",
      "---  ------      --------------  ----- \n",
      " 0   name        816 non-null    object\n",
      " 1   company     816 non-null    object\n",
      " 2   year        816 non-null    int32 \n",
      " 3   Price       816 non-null    int32 \n",
      " 4   kms_driven  816 non-null    int32 \n",
      " 5   fuel_type   816 non-null    object\n",
      "dtypes: int32(3), object(3)\n",
      "memory usage: 28.8+ KB\n"
     ]
    }
   ],
   "source": [
    "car.info()"
   ]
  },
  {
   "cell_type": "code",
   "execution_count": 30,
   "id": "2b564151",
   "metadata": {},
   "outputs": [],
   "source": [
    "car=car[car['Price']<6e6].reset_index(drop=True)"
   ]
  },
  {
   "cell_type": "code",
   "execution_count": 31,
   "id": "307061b0",
   "metadata": {},
   "outputs": [
    {
     "name": "stdout",
     "output_type": "stream",
     "text": [
      "                       name   company  year   Price  kms_driven fuel_type\n",
      "0       Hyundai Santro Xing   Hyundai  2007   80000       45000    Petrol\n",
      "1       Mahindra Jeep CL550  Mahindra  2006  425000          40    Diesel\n",
      "2         Hyundai Grand i10   Hyundai  2014  325000       28000    Petrol\n",
      "3    Ford EcoSport Titanium      Ford  2014  575000       36000    Diesel\n",
      "4                 Ford Figo      Ford  2012  175000       41000    Diesel\n",
      "..                      ...       ...   ...     ...         ...       ...\n",
      "810      Maruti Suzuki Ritz    Maruti  2011  270000       50000    Petrol\n",
      "811          Tata Indica V2      Tata  2009  110000       30000    Diesel\n",
      "812    Toyota Corolla Altis    Toyota  2009  300000      132000    Petrol\n",
      "813            Tata Zest XM      Tata  2018  260000       27000    Diesel\n",
      "814      Mahindra Quanto C8  Mahindra  2013  390000       40000    Diesel\n",
      "\n",
      "[815 rows x 6 columns]\n"
     ]
    }
   ],
   "source": [
    "print(car)"
   ]
  },
  {
   "cell_type": "code",
   "execution_count": 33,
   "id": "69d9bbbb",
   "metadata": {},
   "outputs": [],
   "source": [
    "car.to_csv('Cleaned_Car_DataSet.csv')"
   ]
  },
  {
   "cell_type": "code",
   "execution_count": null,
   "id": "87ff83cf",
   "metadata": {},
   "outputs": [],
   "source": []
  }
 ],
 "metadata": {
  "kernelspec": {
   "display_name": "Python 3 (ipykernel)",
   "language": "python",
   "name": "python3"
  },
  "language_info": {
   "codemirror_mode": {
    "name": "ipython",
    "version": 3
   },
   "file_extension": ".py",
   "mimetype": "text/x-python",
   "name": "python",
   "nbconvert_exporter": "python",
   "pygments_lexer": "ipython3",
   "version": "3.9.6"
  }
 },
 "nbformat": 4,
 "nbformat_minor": 5
}
